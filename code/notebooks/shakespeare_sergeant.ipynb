{
 "cells": [
  {
   "cell_type": "markdown",
   "id": "8c46aef4",
   "metadata": {},
   "source": [
    "    In my youth I had been worried that I bore the same name as Newbolt’s admiral and Shakespeare’s sergeant, and it had irked me when, in my student days, I had been known as the Smiler with the Knife. Afterwards I found it better in practice to capitalise my third letter."
   ]
  },
  {
   "cell_type": "code",
   "execution_count": 12,
   "id": "7e56e3f2",
   "metadata": {},
   "outputs": [],
   "source": [
    "import requests\n",
    "from bs4 import BeautifulSoup, SoupStrainer\n",
    "import re"
   ]
  },
  {
   "cell_type": "markdown",
   "id": "b97750c2",
   "metadata": {},
   "source": [
    "the Smiler with the Knife. \n",
    "better in practice to capitalise my third letter"
   ]
  },
  {
   "cell_type": "code",
   "execution_count": 5,
   "id": "e922c6a9",
   "metadata": {},
   "outputs": [],
   "source": [
    "char_list_url = \"https://www.playshakespeare.com/study/complete-shakespeare-character-list\""
   ]
  },
  {
   "cell_type": "code",
   "execution_count": null,
   "id": "88c26447",
   "metadata": {},
   "outputs": [],
   "source": [
    "HEADERS = {\n",
    "        \"User-Agent\": \"Mozilla/5.0 (Windows NT 10.0; Win64; x64; rv:98.0) Gecko/20100101 Firefox/98.0\",\n",
    "        \"Accept\": \"text/html,application/xhtml+xml,application/xml;q=0.9,image/avif,image/webp,*/*;q=0.8\",\n",
    "        \"Accept-Language\": \"en-US,en;q=0.5\",\n",
    "        \"Accept-Encoding\": \"gzip, deflate\",\n",
    "        \"Connection\": \"keep-alive\",\n",
    "        \"Upgrade-Insecure-Requests\": \"1\",\n",
    "        \"Sec-Fetch-Dest\": \"document\",\n",
    "        \"Sec-Fetch-Mode\": \"navigate\",\n",
    "        \"Sec-Fetch-Site\": \"none\",\n",
    "        \"Sec-Fetch-User\": \"?1\",\n",
    "        \"Cache-Control\": \"max-age=0\",\n",
    "    }  # fake header to convince site we're good people\n",
    "\n",
    "r = requests.get(char_list_url, headers=HEADERS)\n",
    "print(r.text)"
   ]
  },
  {
   "cell_type": "code",
   "execution_count": null,
   "id": "66753270",
   "metadata": {},
   "outputs": [],
   "source": [
    "rx = re.compile('Data.*vailability')\n",
    "rx.match(\"Data.Availability; \")"
   ]
  },
  {
   "cell_type": "code",
   "execution_count": null,
   "id": "6890f46a",
   "metadata": {},
   "outputs": [],
   "source": [
    "r.text.find()"
   ]
  },
  {
   "cell_type": "code",
   "execution_count": 21,
   "id": "c1a7ad2b",
   "metadata": {},
   "outputs": [],
   "source": [
    "start_patt = '[\"King of France'\n",
    "end_patt = '[\"Bear (BEAR)\",{v: 0},\"The Winter'\n",
    "start_idx, end_idx = [r.text.find(p) for p in (start_patt, end_patt)]\n"
   ]
  },
  {
   "cell_type": "code",
   "execution_count": 24,
   "id": "9b5adff4",
   "metadata": {},
   "outputs": [],
   "source": [
    "sel_txt = r.text[start_idx:(end_idx+len(end_patt) + 8)]"
   ]
  },
  {
   "cell_type": "code",
   "execution_count": null,
   "id": "ab2528e7",
   "metadata": {},
   "outputs": [],
   "source": [
    "char_list = []\n",
    "for line in sel_txt.split(\",\\r\\n\"):\n",
    "    char_list.append(line.split(\",\")[0][2:-1].lower())\n",
    "print(char_list)"
   ]
  },
  {
   "cell_type": "code",
   "execution_count": null,
   "id": "2b88eb79",
   "metadata": {
    "scrolled": false
   },
   "outputs": [],
   "source": [
    "for name in adms:\n",
    "    print(\"------------------\")\n",
    "    print(\"---\", name, \"---\")\n",
    "    for s in name.lower().split(\" \")[:1]:\n",
    "        for l in char_list:\n",
    "            if s in l:\n",
    "                print(l)"
   ]
  },
  {
   "cell_type": "code",
   "execution_count": null,
   "id": "a35a40fd",
   "metadata": {},
   "outputs": [],
   "source": [
    "for ch in \n"
   ]
  },
  {
   "cell_type": "code",
   "execution_count": 41,
   "id": "b4251fdb",
   "metadata": {},
   "outputs": [],
   "source": [
    "adms = [\"William Effingham\", \n",
    "\"Richard Grenville\", \n",
    "\"Walter Raleigh\", \n",
    "\"Francis Drake\", \n",
    "\"John Benbow\", \n",
    "\"Cuthbert Collingwood\", \n",
    "\"George Byron\", \n",
    "\"Robert Blake\", \n",
    "\"Horatio Nelson\", \n",
    "\"Essex\", \n",
    "\"Edward Howard\", \n",
    "\"Adam Duncan\"]"
   ]
  },
  {
   "cell_type": "code",
   "execution_count": null,
   "id": "ace96f5b",
   "metadata": {},
   "outputs": [],
   "source": [
    "for adm in adms:\n",
    "    print(wikipedia.search(f\"Admiral {adm}\")[0].summary(2))"
   ]
  },
  {
   "cell_type": "markdown",
   "id": "6d682e87",
   "metadata": {},
   "source": [
    "    Effingham, Grenville, Raleigh, Drake,\n",
    "      Here's to the bold and free!\n",
    "    Benbow, Collingwood, Byron, Blake,\n",
    "      Hail to the Kings of the Sea!\n",
    "    Admirals all, for England's sake,\n",
    "      Honour be yours and fame!\n",
    "    And honour, as long as waves shall break,\n",
    "      To Nelson's peerless name!\n",
    "\n",
    "    Admirals all, for England's sake,\n",
    "      Honour be yours and fame!\n",
    "    And honour, as long as waves shall break,\n",
    "      To Nelson's peerless name!\n",
    "\n",
    "    Essex was fretting in Cadiz Bay\n",
    "      With the galleons fair in sight;\n",
    "    Howard at last must give him his way,\n",
    "      And the word was passed to fight.\n",
    "    Never was schoolboy gayer than he,\n",
    "      Since holidays first began:\n",
    "    He tossed his bonnet to wind and sea,\n",
    "      And under the guns he ran.\n",
    "\n",
    "    Drake nor devil nor Spaniard feared,\n",
    "      Their cities he put to the sack;\n",
    "    He singed his Catholic Majesty's beard,\n",
    "      And harried his ships to wrack.\n",
    "    He was playing at Plymouth a rubber of bowls\n",
    "      When the great Armada came;\n",
    "    But he said, \"They must wait their turn, good souls,\"\n",
    "      And he stooped and finished the game.\n",
    "\n",
    "    Fifteen sail were the Dutchmen bold,\n",
    "      Duncan he had but two;\n",
    "    But he anchored them fast where the Texel shoaled,\n",
    "      And his colours aloft he flew.\n",
    "    \"I've taken the depth to a fathom,\" he cried,\n",
    "      \"And I'll sink with a right good will:\n",
    "    For I know when we're all of us under the tide\n",
    "      My flag will be fluttering still.\"\n",
    "\n",
    "    Splinters were flying above, below,\n",
    "      When Nelson sailed the Sound:\n",
    "    \"Mark you, I wouldn't be elsewhere now,\"\n",
    "      Said he, \"for a thousand pound!\"\n",
    "    The Admiral's signal bade him fly\n",
    "      But he wickedly wagged his head:\n",
    "    He clapped the glass to his sightless eye,\n",
    "      And \"I'm damned if I see it!\" he said.\n",
    "\n",
    "    Admirals all, they said their say\n",
    "      (The echoes are ringing still).\n",
    "    Admirals all, they went their way\n",
    "      To the haven under the hill.\n",
    "    But they left us a kingdom none can take,\n",
    "      The realm of the circling sea,\n",
    "    To be ruled by the rightful sons of Blake,\n",
    "      And the Rodneys yet to be.\n",
    "\n",
    "    Admirals all, for England's sake,\n",
    "      Honour be yours and fame!\n",
    "    And honour, as long as waves shall break,\n",
    "      To Nelson's peerless name!"
   ]
  },
  {
   "cell_type": "code",
   "execution_count": null,
   "id": "864a1687",
   "metadata": {},
   "outputs": [],
   "source": []
  }
 ],
 "metadata": {
  "kernelspec": {
   "display_name": "Python 3 (ipykernel)",
   "language": "python",
   "name": "python3"
  },
  "language_info": {
   "codemirror_mode": {
    "name": "ipython",
    "version": 3
   },
   "file_extension": ".py",
   "mimetype": "text/x-python",
   "name": "python",
   "nbconvert_exporter": "python",
   "pygments_lexer": "ipython3",
   "version": "3.9.13"
  }
 },
 "nbformat": 4,
 "nbformat_minor": 5
}
